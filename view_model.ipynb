{
 "cells": [
  {
   "cell_type": "markdown",
   "id": "9b788f46",
   "metadata": {},
   "source": [
    "# Trainiertes Model analysieren"
   ]
  },
  {
   "cell_type": "code",
   "execution_count": null,
   "id": "17d3611f",
   "metadata": {},
   "outputs": [],
   "source": [
    "import torch"
   ]
  },
  {
   "cell_type": "code",
   "execution_count": null,
   "id": "371ef518",
   "metadata": {},
   "outputs": [],
   "source": [
    "model = torch.load(\n",
    "    \"models/test-finn_output_model_ncf_model_january.pth\", \n",
    "    weights_only=True,\n",
    "    map_location=torch.device('cpu')\n",
    "    )\n",
    "\n",
    "print(model)"
   ]
  }
 ],
 "metadata": {
  "kernelspec": {
   "display_name": ".venv (3.12.0)",
   "language": "python",
   "name": "python3"
  },
  "language_info": {
   "codemirror_mode": {
    "name": "ipython",
    "version": 3
   },
   "file_extension": ".py",
   "mimetype": "text/x-python",
   "name": "python",
   "nbconvert_exporter": "python",
   "pygments_lexer": "ipython3",
   "version": "3.12.0"
  }
 },
 "nbformat": 4,
 "nbformat_minor": 5
}
