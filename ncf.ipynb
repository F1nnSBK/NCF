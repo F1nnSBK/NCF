{
 "cells": [
  {
   "cell_type": "markdown",
   "id": "394f2900",
   "metadata": {},
   "source": [
    "# Collaborative Filtering mit NCF"
   ]
  },
  {
   "cell_type": "code",
   "execution_count": null,
   "id": "d8e145e6",
   "metadata": {},
   "outputs": [],
   "source": [
    "import numpy as np\n",
    "import polars as pl\n",
    "import torch\n",
    "import torch.nn as nn\n",
    "import torch.nn.functional as F\n",
    "from sklearn.model_selection import train_test_split\n",
    "from torch.utils.data import DataLoader\n",
    "from utils.ncf import NCF\n",
    "from utils.interactions_dataset import InteractionsDataset, get_user_item_maps"
   ]
  },
  {
   "cell_type": "markdown",
   "id": "69f7f050",
   "metadata": {},
   "source": [
    "## 1. Datenvorbereitung\n",
    "\n",
    "#### 1.1 Datenaufbereitung"
   ]
  },
  {
   "cell_type": "code",
   "execution_count": null,
   "id": "535ac8e0",
   "metadata": {},
   "outputs": [],
   "source": [
    "\n",
    "data = pl.read_csv(\"data/ncf_data_v1.csv\")\n",
    "data = data.drop_nulls()\n",
    "print(data[\"user_pseudo_id\"].n_unique(), \"unique users\")\n",
    "print(data[\"article_id\"].n_unique(), \"unique items\")\n",
    "print(data.shape, \"rows in the dataset\")"
   ]
  },
  {
   "cell_type": "markdown",
   "id": "156c2d70",
   "metadata": {},
   "source": [
    "#### 1.2 Trainings & Testdaten"
   ]
  },
  {
   "cell_type": "code",
   "execution_count": null,
   "id": "6aa30c4d",
   "metadata": {},
   "outputs": [],
   "source": [
    "train_df, test_df = train_test_split(data.to_pandas(), test_size=0.2, random_state=42)\n",
    "\n",
    "train_df = pl.from_pandas(train_df)\n",
    "test_df = pl.from_pandas(test_df)\n",
    "\n",
    "print(\"Training DataFrame:\")\n",
    "print(train_df.shape)\n",
    "\n",
    "print(\"\\nTest DataFrame:\")\n",
    "print(test_df.shape)"
   ]
  },
  {
   "cell_type": "markdown",
   "id": "10a92990",
   "metadata": {},
   "source": [
    "#### 1.3 Konvertierung zu PyTorch Tensoren"
   ]
  },
  {
   "cell_type": "code",
   "execution_count": null,
   "id": "87afb99d",
   "metadata": {},
   "outputs": [],
   "source": [
    "train_dataset = InteractionsDataset(train_df)\n",
    "test_dataset = InteractionsDataset(test_df)\n",
    "\n",
    "train_loader = DataLoader(train_dataset, batch_size=1024, shuffle=True)\n",
    "test_loader = DataLoader(test_dataset, batch_size=1024, shuffle=False)\n",
    "\n",
    "num_users = len(train_dataset.user_id_map)\n",
    "num_items = len(train_dataset.item_id_map)\n",
    "print(f\"Number of users: {num_users}\\nNumber of items: {num_items}\")"
   ]
  },
  {
   "cell_type": "markdown",
   "id": "a78dedfe",
   "metadata": {},
   "source": [
    "## 2. Modelltraining"
   ]
  },
  {
   "cell_type": "code",
   "execution_count": null,
   "id": "a231db07",
   "metadata": {},
   "outputs": [],
   "source": [
    "device = torch.device(\"cuda\" if torch.cuda.is_available() else \"cpu\")\n",
    "model = NCF(num_users, num_items, embedding_dim=32).to(device)\n",
    "optimizer = torch.optim.Adam(model.parameters(), lr=0.001)\n",
    "criterion = nn.BCELoss()\n",
    "\n",
    "num_epochs = 10\n",
    "for epoch in range(num_epochs):\n",
    "    model.train()\n",
    "    total_loss = 0\n",
    "    for user_idxs, item_idxs in train_loader:\n",
    "        user_idxs, item_idxs = user_idxs.to(device), item_idxs.to(device)\n",
    "        optimizer.zero_grad()\n",
    "        outputs = model(user_idxs, item_idxs)\n",
    "        labels = torch.ones(len(outputs)).to(device)  # Assuming all interactions in training are positive\n",
    "        loss = criterion(outputs.view(-1), labels)\n",
    "        loss.backward()\n",
    "        optimizer.step()\n",
    "\n",
    "        total_loss += loss.item()\n",
    "\n",
    "    print(f\"Epoch [{epoch+1}/{num_epochs}], Loss: {total_loss/len(train_loader):.4f}\")"
   ]
  },
  {
   "cell_type": "markdown",
   "id": "5a837fe8",
   "metadata": {},
   "source": [
    "## 3. Evaluierung auf Basis des nDCG@10"
   ]
  },
  {
   "cell_type": "code",
   "execution_count": null,
   "id": "cfdad520",
   "metadata": {},
   "outputs": [],
   "source": [
    "def dcg_at_k(scores, k=10):\n",
    "    \"\"\"Calculate Discounted Cumulative Gain (DCG) at k.\"\"\"\n",
    "    if len(scores) == 0:\n",
    "        return 0.0\n",
    "    scores = scores[:k]\n",
    "    return np.sum((2**scores - 1) / np.log2(np.arange(2, scores.size + 2)))\n",
    "\n",
    "def ndcg_at_k(truth, scores, k=10):\n",
    "    \"\"\"Calculate Normalized Discounted Cumulative Gain (nDCG) at k.\"\"\"\n",
    "    best_dcg = dcg_at_k(sorted(truth, reverse=True), k)\n",
    "    actual_dcg = dcg_at_k([truth[i] for i in np.argsort(scores)[::-1]], k)\n",
    "    return actual_dcg / best_dcg if best_dcg > 0 else 0\n",
    "\n",
    "model.eval()\n",
    "ndcg_scores = []\n",
    "with torch.no_grad():\n",
    "    for user_idxs, item_idxs in test_loader:\n",
    "        user_idxs, item_idxs = user_idxs.to(device), item_idxs.to(device)\n",
    "        scores = model(user_idxs, item_idxs)\n",
    "\n",
    "        true_scores = np.ones(len(scores))  # Assuming all interactions in test are positive\n",
    "        scores = scores.cpu().numpy()\n",
    "        ndcg = ndcg_at_k(true_scores, scores)\n",
    "        ndcg_scores.append(ndcg)\n",
    "\n",
    "average_ndcg = np.mean(ndcg_scores)\n",
    "print(f\"Mean nDCG@10: {average_ndcg:.4f}\")"
   ]
  }
 ],
 "metadata": {
  "kernelspec": {
   "display_name": ".venv (3.12.0)",
   "language": "python",
   "name": "python3"
  },
  "language_info": {
   "codemirror_mode": {
    "name": "ipython",
    "version": 3
   },
   "file_extension": ".py",
   "mimetype": "text/x-python",
   "name": "python",
   "nbconvert_exporter": "python",
   "pygments_lexer": "ipython3",
   "version": "3.12.0"
  }
 },
 "nbformat": 4,
 "nbformat_minor": 5
}
