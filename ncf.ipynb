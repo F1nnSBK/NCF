{
 "cells": [
  {
   "cell_type": "markdown",
   "id": "394f2900",
   "metadata": {},
   "source": [
    "# Collaborative Filtering mit NCF"
   ]
  },
  {
   "cell_type": "code",
   "execution_count": 1,
   "id": "d8e145e6",
   "metadata": {},
   "outputs": [],
   "source": [
    "import polars as pl\n",
    "from sklearn.model_selection import train_test_split\n",
    "import Helper"
   ]
  },
  {
   "cell_type": "markdown",
   "id": "69f7f050",
   "metadata": {},
   "source": [
    "## 1. Datenvorbereitung\n",
    "\n",
    "#### 1.1 Datenaufbereitung"
   ]
  },
  {
   "cell_type": "code",
   "execution_count": 2,
   "id": "535ac8e0",
   "metadata": {},
   "outputs": [
    {
     "name": "stdout",
     "output_type": "stream",
     "text": [
      "2657658 unique users\n",
      "131022 unique items\n",
      "(15185710, 2) rows in the dataset\n"
     ]
    }
   ],
   "source": [
    "\n",
    "data = pl.read_csv(\"data/ncf_data_v1.csv\")\n",
    "data = data.drop_nulls()\n",
    "print(data[\"user_pseudo_id\"].n_unique(), \"unique users\")\n",
    "print(data[\"article_id\"].n_unique(), \"unique items\")\n",
    "print(data.shape, \"rows in the dataset\")"
   ]
  },
  {
   "cell_type": "markdown",
   "id": "156c2d70",
   "metadata": {},
   "source": [
    "#### 1.2 Trainings & Tesdaten"
   ]
  },
  {
   "cell_type": "code",
   "execution_count": 3,
   "id": "6aa30c4d",
   "metadata": {},
   "outputs": [
    {
     "name": "stdout",
     "output_type": "stream",
     "text": [
      "Training DataFrame:\n",
      "(12148568, 2)\n",
      "\n",
      "Test DataFrame:\n",
      "(3037142, 2)\n"
     ]
    }
   ],
   "source": [
    "train_df, test_df = train_test_split(data.to_pandas(), test_size=0.2, random_state=42)\n",
    "\n",
    "train_df = pl.from_pandas(train_df)\n",
    "test_df = pl.from_pandas(test_df)\n",
    "\n",
    "print(\"Training DataFrame:\")\n",
    "print(train_df.shape)\n",
    "\n",
    "print(\"\\nTest DataFrame:\")\n",
    "print(test_df.shape)"
   ]
  }
 ],
 "metadata": {
  "kernelspec": {
   "display_name": ".venv (3.12.0)",
   "language": "python",
   "name": "python3"
  },
  "language_info": {
   "codemirror_mode": {
    "name": "ipython",
    "version": 3
   },
   "file_extension": ".py",
   "mimetype": "text/x-python",
   "name": "python",
   "nbconvert_exporter": "python",
   "pygments_lexer": "ipython3",
   "version": "3.12.0"
  }
 },
 "nbformat": 4,
 "nbformat_minor": 5
}
